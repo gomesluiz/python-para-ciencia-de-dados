{
 "cells": [
  {
   "cell_type": "markdown",
   "metadata": {},
   "source": [
    "## 1. Introdução\n",
    "<p>Todo mundo ama Lego (a menos que você pise em um). Você sabia que o \"Lego\" foi derivado da frase dinamarquesa leg godt, que significa \"jogar bem\"? A menos que você fale dinamarquês, provavelmente não.</p>\n",
    "<p>Neste projeto, analisaremos um conjunto de dados fascinante em cada bloco lego já construído!</p>\n",
    "<p><img src=\"https://s3.amazonaws.com/assets.datacamp.com/production/project_10/datasets/lego-bricks.jpeg\" alt=\"lego\"></p>"
   ]
  },
  {
   "cell_type": "markdown",
   "metadata": {},
   "source": [
    "## 2. Lendo os dados\n",
    "<p>Um banco de dados abrangente de blocos de lego é fornecido por <a href=\"https://rebrickable.com/downloads/\">Rebrickable</a>. Os dados estão disponíveis como arquivos csv e o esquema é mostrado abaixo.</p>\n",
    "<p><img src=\"https://s3.amazonaws.com/assets.datacamp.com/production/project_10/datasets/downloads_schema.png\" alt=\"schema\"></p>\n",
    "<p>Vamos começar lendo nos dados de cores para ter uma noção da diversidade de conjuntos de lego!</p>"
   ]
  },
  {
   "cell_type": "code",
   "execution_count": null,
   "metadata": {},
   "outputs": [],
   "source": [
    "# Importe o pacote pandas e o matplotlib\n",
    "\n",
    "\n",
    "# Leia o arquivo datasets/colors.csv\n",
    "\n",
    "\n",
    "# Mostre as primeiras linhas\n"
   ]
  },
  {
   "cell_type": "markdown",
   "metadata": {},
   "source": [
    "## 3. Explorando Cores\n",
    "<p> Agora que lemos os dados <code> colors </code>, podemos começar a explorá-los! Vamos começar entendendo o número de cores disponíveis.</p>"
   ]
  },
  {
   "cell_type": "code",
   "execution_count": null,
   "metadata": {},
   "outputs": [],
   "source": [
    "# Quantas cores distintas estão disponíveis?"
   ]
  },
  {
   "cell_type": "markdown",
   "metadata": {},
   "source": [
    "## 4. Cores Transparentes em Conjuntos de Lego\n",
    "<p> Os dados de <code> colors </code> têm uma coluna chamada <code> is_trans </code> que indica se uma cor é transparente ou não. Seria interessante explorar a distribuição de cores transparentes vs. não transparentes. </p>"
   ]
  },
  {
   "cell_type": "code",
   "execution_count": 1,
   "metadata": {},
   "outputs": [],
   "source": [
    "# summario_de_cores: distribuição de cores baseado na transparência das cores.\n"
   ]
  },
  {
   "cell_type": "markdown",
   "metadata": {},
   "source": [
    "## 5. Explore os Conjuntos de Lego\n",
    "<p> Outro conjunto de dados interessante disponível neste banco de dados são os dados de <code> sets </code>. Ele contém uma lista abrangente de conjuntos ao longo dos anos e o número de partes que cada um desses conjuntos continha. </p>\n",
    "<p> <img src = \"https://imgur.com/1k4PoXs.png\" alt = \"sets_data\"> </p>\n",
    "<p> Vamos usar esses dados para explorar como o número médio de peças em conjuntos de Lego tem variado ao longo dos anos. </p>"
   ]
  },
  {
   "cell_type": "code",
   "execution_count": 2,
   "metadata": {},
   "outputs": [],
   "source": [
    "# Leia o arquivo datasets/sets.csv para a variável sets.\n",
    "\n",
    "# Crie um resumo do número médio de partes por ano: `parts_por_year`\n",
    "\n",
    "# Traçar um gráfico de linha de tendências no número médio de peças por ano\n"
   ]
  },
  {
   "cell_type": "markdown",
   "metadata": {},
   "source": [
    "## 6. Temas de legos através dos anos\n",
    "<p> Blocos de Lego são fabricados em vários <a href=\"https://shop.lego.com/pt-BR/Themes\"> temas </a>. Vamos tentar ter uma ideia de como o número de temas fabricados variou ao longo dos anos. </P>"
   ]
  },
  {
   "cell_type": "code",
   "execution_count": null,
   "metadata": {},
   "outputs": [],
   "source": []
  }
 ],
 "metadata": {
  "kernelspec": {
   "display_name": "Python 3",
   "language": "python",
   "name": "python3"
  },
  "language_info": {
   "codemirror_mode": {
    "name": "ipython",
    "version": 3
   },
   "file_extension": ".py",
   "mimetype": "text/x-python",
   "name": "python",
   "nbconvert_exporter": "python",
   "pygments_lexer": "ipython3",
   "version": "3.7.1"
  }
 },
 "nbformat": 4,
 "nbformat_minor": 2
}
